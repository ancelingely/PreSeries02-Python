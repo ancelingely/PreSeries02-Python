{
 "cells": [
  {
   "attachments": {},
   "cell_type": "markdown",
   "metadata": {},
   "source": [
    "# Run all notebooks in the project"
   ]
  },
  {
   "cell_type": "markdown",
   "metadata": {},
   "source": [
    "1. Objective: Create a notebook to plot sinusoidal signals\n",
    "The goal of this series is to start coding something useful, from theory to code.\n",
    "The current stage is the first step in the process: an assignment to clarify the theory and concepts relating to sine waves and their properties.\n",
    "\n",
    "NOTE: This is a preparation assignment for which I expect you to work individually or in pairs, taking advantage of the Internet and AI tools for clarification of concepts. Yet, you should not stupidly copy-paste code or text from the Internet. If you want ot learn something, you need to make it clear to yourself, and that is what this assignment is about.\n",
    "\n",
    "I suggest that you:\n",
    "\n",
    "Write the answers as it pops into your mind, without thinking too much (first draft).\n",
    "Then, use the Internet/AI tools to check the wording and the correctness of your answers.\n",
    "Finally, write the final version in your own words and including the relevant references (e.g., the URL/DOI of the sources you used or the prompt you used to generate the answers by what AI tool).\n",
    "1.1. Prerequisites: Theory of sinusoidal signals\n",
    "Before you start coding for Series 02, you should have clarified the following points:\n",
    "\n",
    "What is a sinusoid ?\n",
    "write down the description of a sine curve (1 sentence < 20 words + > 1 reference)\n",
    "\n",
    "A sine curve is a repetitive wave pattern that oscillates above and below a central axis\n",
    "\n",
    "What (simple) physical phenomenon produces a sinusoid?.\n",
    "write down the description of the phenomenon (1 sentence < 20 words + > 1 reference)\n",
    "\n",
    "A pure tone is composed of a single frequency and can be represented by a sine wave.\n",
    "\n"
   ]
  },
  {
   "cell_type": "markdown",
   "metadata": {},
   "source": [
    "Draw a diagram of a sine curve as a function of time (do it by hand before scouting for images?)\n",
    "indicate the name and units of the axes\n",
    "indicate the remarkable points \n",
    "\n",
    "![diagram_sine](Présentation sans titre.png)"
   ]
  },
  {
   "cell_type": "markdown",
   "metadata": {},
   "source": [
    "What is the equation of a sinusoid?\n",
    "write down the equation\n",
    "indicate the meaning of each term\n",
    "indicate the unit of each term\n",
    "indicate the unit of the whole equation\n",
    "\n",
    "y(t)=A⋅sin(2πft+φ)\n",
    "\n",
    "    A : amplitude ()\n",
    "    f : fréquence (Hz)\n",
    "    t : time (s)\n",
    "    φ : phase (radians)\n",
    "\n",
    "Define (in plain English + give unit) and illustrate (on a diagram that you manually drew):\n",
    "frequency : number of oscillation / sec\n",
    "period : time to complete a full cycle (s)\n",
    "amplitude : maximum (and minimum) height of a wave\n",
    "pulsation : rate of change of the phase (rad/s)\n",
    "angular frequency : \n",
    "\n"
   ]
  },
  {
   "cell_type": "markdown",
   "metadata": {},
   "source": [
    "What is the difference between a sine and a cosine?\n",
    "\n",
    "\n",
    "write down the equation of a cosine compared to the equation of a sine\n",
    "draw a diagram of a cosine compared to the diagram of a sine\n",
    "\n",
    "Explain why a sinusoid is a periodic signal (1 sentence < 20 words + > 1 reference)\n",
    "\n",
    "Explain why a sinusoid is a continuous signal (1 sentence < 20 words + > 1 reference)\n",
    "\n",
    "Explain why a sinusoid is a parametric signal, and with which parameters (1 sentence < 20 words + > 1 reference)\n",
    "\n",
    "Provide at least 3 URL and 3 references to books or scientific papers that you have used to answer the previous questions"
   ]
  },
  {
   "cell_type": "markdown",
   "metadata": {},
   "source": [
    "Provide the time you spent on this assignment\n",
    "\n",
    "1.2. Assignment: Upload your answers\n",
    "To answer the previous questions, you can use either a Jupyter notebook or your favorite word processor.\n",
    "\n",
    "In your answers, you should include explanations, manually drawn diagrams, equations, and references (which is likely easier with your favorite word processor).\n",
    "\n",
    "Save your work as an HTML file, and upload it."
   ]
  }
 ],
 "metadata": {
  "kernelspec": {
   "display_name": "base",
   "language": "python",
   "name": "python3"
  },
  "language_info": {
   "codemirror_mode": {
    "name": "ipython",
    "version": 3
   },
   "file_extension": ".py",
   "mimetype": "text/x-python",
   "name": "python",
   "nbconvert_exporter": "python",
   "pygments_lexer": "ipython3",
   "version": "3.10.10"
  },
  "orig_nbformat": 4
 },
 "nbformat": 4,
 "nbformat_minor": 2
}
